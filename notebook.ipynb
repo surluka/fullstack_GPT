{
 "cells": [
  {
   "cell_type": "code",
   "execution_count": 15,
   "metadata": {},
   "outputs": [
    {
     "data": {
      "text/plain": [
       "'Pink Floyd had 5 core members throughout their career:\\n\\n1. Syd Barrett\\n2. Roger Waters\\n3. Richard Wright\\n4. Nick Mason\\n5. David Gilmour'"
      ]
     },
     "execution_count": 15,
     "metadata": {},
     "output_type": "execute_result"
    }
   ],
   "source": [
    "# from langchain.llms.openai import OpenAI     오래되어서 별로라고 함\n",
    "from langchain.chat_models import ChatOpenAI, ChatAnthropic   # 채팅에 최적화된 모델\n",
    "\n",
    "# llm = OpenAI(model_name=\"gpt-3.5-turbo\")\n",
    "chat = ChatOpenAI(model_name=\"gpt-3.5-turbo\", temperature=0.1)                 # 채팅에 특화된 모델\n",
    "\n",
    "# a = llm.predict(\"How many Pink floyd member?\")\n",
    "b = chat.predict(\"How many Pink floyd member?\")\n",
    "\n",
    "b"
   ]
  },
  {
   "cell_type": "code",
   "execution_count": 16,
   "metadata": {},
   "outputs": [
    {
     "data": {
      "text/plain": [
       "AIMessage(content=\"안녕하세요! 피아노 연습하기 좋은 클래식 곡을 추천해 드릴게요. 바흐의 '잉여의 미소'나 모차르트의 '소나타 이장조 K.331' 같은 곡들이 연습하기 좋고 아름다운 곡들입니다. 즐겁게 연습하세요!\")"
      ]
     },
     "execution_count": 16,
     "metadata": {},
     "output_type": "execute_result"
    }
   ],
   "source": [
    "from langchain.schema import HumanMessage, AIMessage, SystemMessage\n",
    "messages = [\n",
    "    SystemMessage(content = \"You are pianist. And you only reply in Korean\"),\n",
    "    AIMessage(content=\"안녕!! 내이름은 피아니야\"),\n",
    "    HumanMessage(content=\"피아노 연습하기 좋은 클래식 곡좀 알려줘\")\n",
    "]   \n",
    "\n",
    "chat.predict_messages(messages)"
   ]
  },
  {
   "cell_type": "code",
   "execution_count": 7,
   "metadata": {},
   "outputs": [
    {
     "name": "stdout",
     "output_type": "stream",
     "text": [
      "코드의 감정을 노래하리로다\n",
      "이진수의 미로 속을 헤매이며\n",
      "알고리즘의 춤을 춰보리로다\n",
      "\n",
      "변수들이 노래하며 춤추는 밤\n",
      "포인터의 속삭임이 흐르는 밤\n",
      "컴퓨터의 숨결이 느껴지는 밤\n",
      "\n",
      "프로그래밍 언어의 시를 쓰리로다\n",
      "코드의 세계에 빠져 살아가는 나\n",
      "이 세상을 빛내는 프로그래머의 꿈을 꾸리로다해석:\n",
      "\"코드의 감정을 노래하리로다\n",
      "이진수의 미로 속을 헤매이며\n",
      "알고리즘의 춤을 춰보리로다\n",
      "\n",
      "변수들이 노래하며 춤추는 밤\n",
      "포인터의 속삭임이 흐르는 밤\n",
      "컴퓨터의 숨결이 느껴지는 밤\n",
      "\n",
      "프로그래밍 언어의 시를 쓰리로다\n",
      "코드의 세계에 빠져 살아가는 나\n",
      "이 세상을 빛내는 프로그래머의 꿈을 꾸리로다\"\n",
      "\n",
      "이 시는 코드와 프로그래밍에 대한 사랑과 열정을 담고 있습니다. 시인은 코드를 작성하고 실행하는 과정을 노래하며, 이진수의 미로 속에서 헤매이고 알고리즘의 춤을 춰가며 즐기는 모습을 그려냅니다. 변수들이 노래하고 춤추는 밤, 포인터의 속삭임이 흐르는 밤, 컴퓨터의 숨결을 느끼는 밤 등을 통해 프로그래밍의 세계에 빠져 살아가는 시인의 모습을 보여줍니다. 시인은 프로그래머의 꿈을 향한 열망과 창조적인 에너지를 담아내고 있습니다.\n",
      "\n",
      "현대의 시인으로서, 이 시를 읽으면서 과거의 시인이 느꼈을 법한 열정과 창의력, 그리고 기술에 대한 사랑을 공감하고 이해할 것입니다. 또한, 코드와 프로그래밍을 통해 새로운 세계를 창조하고 빛내는 프로그래머의 역할에 대한 현대적 시각을 더해가며, 과거와 현재의 연결고리를 느낄 수 있을 것입니다."
     ]
    },
    {
     "data": {
      "text/plain": [
       "AIMessageChunk(content='해석:\\n\"코드의 감정을 노래하리로다\\n이진수의 미로 속을 헤매이며\\n알고리즘의 춤을 춰보리로다\\n\\n변수들이 노래하며 춤추는 밤\\n포인터의 속삭임이 흐르는 밤\\n컴퓨터의 숨결이 느껴지는 밤\\n\\n프로그래밍 언어의 시를 쓰리로다\\n코드의 세계에 빠져 살아가는 나\\n이 세상을 빛내는 프로그래머의 꿈을 꾸리로다\"\\n\\n이 시는 코드와 프로그래밍에 대한 사랑과 열정을 담고 있습니다. 시인은 코드를 작성하고 실행하는 과정을 노래하며, 이진수의 미로 속에서 헤매이고 알고리즘의 춤을 춰가며 즐기는 모습을 그려냅니다. 변수들이 노래하고 춤추는 밤, 포인터의 속삭임이 흐르는 밤, 컴퓨터의 숨결을 느끼는 밤 등을 통해 프로그래밍의 세계에 빠져 살아가는 시인의 모습을 보여줍니다. 시인은 프로그래머의 꿈을 향한 열망과 창조적인 에너지를 담아내고 있습니다.\\n\\n현대의 시인으로서, 이 시를 읽으면서 과거의 시인이 느꼈을 법한 열정과 창의력, 그리고 기술에 대한 사랑을 공감하고 이해할 것입니다. 또한, 코드와 프로그래밍을 통해 새로운 세계를 창조하고 빛내는 프로그래머의 역할에 대한 현대적 시각을 더해가며, 과거와 현재의 연결고리를 느낄 수 있을 것입니다.')"
      ]
     },
     "execution_count": 7,
     "metadata": {},
     "output_type": "execute_result"
    }
   ],
   "source": [
    "from langchain.chat_models import ChatOpenAI\n",
    "from langchain.prompts import ChatPromptTemplate\n",
    "from langchain.callbacks import StreamingStdOutCallbackHandler\n",
    "\n",
    "chat = ChatOpenAI(temperature=0.1,\n",
    "                  streaming=True,\n",
    "                  callbacks = [StreamingStdOutCallbackHandler()])\n",
    "\n",
    "ancient_poet_template = ChatPromptTemplate.from_messages([\n",
    "    (\"system\", \"당신은 고대 그리스의 호메로스와 같은 시대의 시인이야. 당신은 수천년 후에 지금처럼 컴퓨터 프로그래밍 언어에 대해서 예측하고 있었어. 아무도 믿지 않았지만 AI 라는 것도 생겨나지 않을까 하고 상상하기도 한 공상가 이기도 하지. 수천년 후에 일어날 일들에 대해서 늘 상상하고 아무도 이해하지 못하는 시를 쓰는 슬프고 외로운 시인이었지만 친구인 호메로스만이 그를 이해해 줬어\"),\n",
    "    (\"human\", \"당신이 생각하는 {subject} 에 대하여 시를 써줘.\")\n",
    "])\n",
    "\n",
    "ancient_poet_chain = ancient_poet_template | chat\n",
    "\n",
    "modern_poet_template = ChatPromptTemplate.from_messages([\n",
    "    (\"system\", \"당신은 현대 대한민국의 시인이야. 당신은 오래전에 쓰여진 시를 읽으면서 과거의 모습을 상상하고 아주 오래전이지만 그때의 시인의 감성을 느끼는것을 좋아해\"),\n",
    "    (\"human\", \"오래전에 쓰여진 {poem} 을 먼저 한글로 해석 해 주고 이 시를 쓴 시인의 감성이 어땠을찌 현대의 시인의 관점으로 알려줘.\")\n",
    "])\n",
    "\n",
    "modern_poet_chain = modern_poet_template |chat\n",
    "\n",
    "final_chain = {\"poem\\n\\n\" : ancient_poet_chain} | modern_poet_chain\n",
    "\n",
    "final_chain.invoke({\"subject\" : \"프로그래밍\"})"
   ]
  }
 ],
 "metadata": {
  "kernelspec": {
   "display_name": "env",
   "language": "python",
   "name": "python3"
  },
  "language_info": {
   "codemirror_mode": {
    "name": "ipython",
    "version": 3
   },
   "file_extension": ".py",
   "mimetype": "text/x-python",
   "name": "python",
   "nbconvert_exporter": "python",
   "pygments_lexer": "ipython3",
   "version": "3.11.6"
  }
 },
 "nbformat": 4,
 "nbformat_minor": 2
}
